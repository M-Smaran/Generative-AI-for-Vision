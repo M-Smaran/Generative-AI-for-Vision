{
  "cells": [
    {
      "cell_type": "markdown",
      "metadata": {
        "id": "6NR_UytVNKNg"
      },
      "source": [
        "### Grayscale Image"
      ]
    },
    {
      "cell_type": "code",
      "execution_count": 2,
      "metadata": {
        "id": "GhCM0i2yNKNi",
        "outputId": "701b7822-9afd-4904-d91a-678aa4194aac",
        "colab": {
          "base_uri": "https://localhost:8080/"
        }
      },
      "outputs": [
        {
          "output_type": "stream",
          "name": "stdout",
          "text": [
            "Pixel data has been saved to /content/data/Cat.xlsx\n"
          ]
        }
      ],
      "source": [
        "from PIL import Image\n",
        "import openpyxl\n",
        "from openpyxl.styles import PatternFill\n",
        "\n",
        "# Load the image\n",
        "image_path = '/content/data/Cat.jpg'\n",
        "image = Image.open(image_path)\n",
        "image = image.convert('L')  # Convert to grayscale\n",
        "\n",
        "# Resize the image\n",
        "new_width, new_height = 64, 128\n",
        "image = image.resize((new_width, new_height))\n",
        "\n",
        "# Get pixel data\n",
        "pixels = list(image.getdata())\n",
        "width, height = image.size\n",
        "\n",
        "# Create a new Excel workbook and select the active worksheet\n",
        "wb = openpyxl.Workbook()\n",
        "ws = wb.active\n",
        "\n",
        "# Fill the Excel sheet with grayscale values and apply coloring\n",
        "for y in range(height):\n",
        "    for x in range(width):\n",
        "        gray = pixels[y * width + x]\n",
        "        cell = ws.cell(row=y + 1, column=x + 1)\n",
        "        cell.value = gray\n",
        "        hex_value = f'{gray:02X}'\n",
        "        fill = PatternFill(start_color=hex_value * 3, end_color=hex_value * 3, fill_type=\"solid\")\n",
        "        cell.fill = fill\n",
        "\n",
        "# Save the workbook\n",
        "excel_path = '/content/data/Cat.xlsx'\n",
        "wb.save(excel_path)\n",
        "\n",
        "print(f'Pixel data has been saved to {excel_path}')"
      ]
    },
    {
      "cell_type": "markdown",
      "metadata": {
        "id": "ksPVvHEZNKNk"
      },
      "source": [
        "### Color Image"
      ]
    },
    {
      "cell_type": "code",
      "execution_count": 3,
      "metadata": {
        "id": "kjJUg-ULNKNl",
        "outputId": "a1e3f7d3-8799-4d6e-dc63-f9eeee303385",
        "colab": {
          "base_uri": "https://localhost:8080/"
        }
      },
      "outputs": [
        {
          "output_type": "stream",
          "name": "stdout",
          "text": [
            "Pixel data has been saved to /content/data/Catcolor.xlsx\n"
          ]
        }
      ],
      "source": [
        "from PIL import Image\n",
        "import openpyxl\n",
        "from openpyxl.styles import PatternFill\n",
        "\n",
        "# Load the image\n",
        "image_path = '/content/data/Cat.jpg'\n",
        "image = Image.open(image_path)\n",
        "image = image.convert('RGB')\n",
        "\n",
        "# Resize the image\n",
        "new_width, new_height = 64, 128\n",
        "image = image.resize((new_width, new_height))\n",
        "\n",
        "# Get pixel data\n",
        "pixels = list(image.getdata())\n",
        "width, height = image.size\n",
        "\n",
        "# Create a new Excel workbook and select the active worksheet\n",
        "wb = openpyxl.Workbook()\n",
        "ws = wb.active\n",
        "\n",
        "# Fill the Excel sheet with RGB values and apply coloring\n",
        "for y in range(height):\n",
        "    for x in range(width):\n",
        "        r, g, b = pixels[y * width + x]\n",
        "        cell = ws.cell(row=y + 1, column=x + 1)\n",
        "        cell.value = f'{r},{g},{b}'\n",
        "        fill = PatternFill(start_color=f'{r:02X}{g:02X}{b:02X}', end_color=f'{r:02X}{g:02X}{b:02X}', fill_type=\"solid\")\n",
        "        cell.fill = fill\n",
        "\n",
        "# Save the workbook\n",
        "excel_path = '/content/data/Catcolor.xlsx'\n",
        "wb.save(excel_path)\n",
        "\n",
        "print(f'Pixel data has been saved to {excel_path}')"
      ]
    },
    {
      "cell_type": "markdown",
      "metadata": {
        "id": "0xuBGtabNKNl"
      },
      "source": [
        "### Red Channel Only"
      ]
    },
    {
      "cell_type": "code",
      "execution_count": 4,
      "metadata": {
        "id": "UwbzY8gTNKNl",
        "outputId": "2c261364-c780-425e-cece-7530f6d0d6b7",
        "colab": {
          "base_uri": "https://localhost:8080/"
        }
      },
      "outputs": [
        {
          "output_type": "stream",
          "name": "stdout",
          "text": [
            "Pixel data has been saved to /content/data/Cat_redchannel.xlsx\n"
          ]
        }
      ],
      "source": [
        "from PIL import Image\n",
        "import openpyxl\n",
        "from openpyxl.styles import PatternFill\n",
        "\n",
        "# Load the image\n",
        "image_path = '/content/data/Cat.jpg'\n",
        "image = Image.open(image_path)\n",
        "image = image.convert('RGB')\n",
        "\n",
        "# Resize the image\n",
        "new_width, new_height = 64, 128\n",
        "image = image.resize((new_width, new_height))\n",
        "\n",
        "# Get pixel data\n",
        "pixels = list(image.getdata())\n",
        "width, height = image.size\n",
        "\n",
        "# Create a new Excel workbook and select the active worksheet\n",
        "wb = openpyxl.Workbook()\n",
        "ws = wb.active\n",
        "\n",
        "# Fill the Excel sheet with Red channel values and apply coloring\n",
        "for y in range(height):\n",
        "    for x in range(width):\n",
        "        r, g, b = pixels[y * width + x]\n",
        "        cell = ws.cell(row=y + 1, column=x + 1)\n",
        "        cell.value = f'{r}'\n",
        "        fill = PatternFill(start_color=f'{r:02X}0000', end_color=f'{r:02X}0000', fill_type=\"solid\")\n",
        "        cell.fill = fill\n",
        "\n",
        "# Save the workbook\n",
        "excel_path = '/content/data/Cat_redchannel.xlsx'\n",
        "wb.save(excel_path)\n",
        "\n",
        "print(f'Pixel data has been saved to {excel_path}')"
      ]
    },
    {
      "cell_type": "markdown",
      "metadata": {
        "id": "HzyUbByYNKNl"
      },
      "source": [
        "### Green Channel Only"
      ]
    },
    {
      "cell_type": "code",
      "execution_count": 5,
      "metadata": {
        "id": "ooi0iDPZNKNm",
        "outputId": "d7dd3977-7cd0-4a11-dcf4-80b3bf8ee1a3",
        "colab": {
          "base_uri": "https://localhost:8080/"
        }
      },
      "outputs": [
        {
          "output_type": "stream",
          "name": "stdout",
          "text": [
            "Pixel data has been saved to /content/data/Cat_greenchannel.xlsx\n"
          ]
        }
      ],
      "source": [
        "from PIL import Image\n",
        "import openpyxl\n",
        "from openpyxl.styles import PatternFill\n",
        "\n",
        "# Load the image\n",
        "image_path = '/content/data/Cat.jpg'\n",
        "image = Image.open(image_path)\n",
        "image = image.convert('RGB')\n",
        "\n",
        "# Resize the image\n",
        "new_width, new_height = 64, 128\n",
        "image = image.resize((new_width, new_height))\n",
        "\n",
        "# Get pixel data\n",
        "pixels = list(image.getdata())\n",
        "width, height = image.size\n",
        "\n",
        "# Create a new Excel workbook and select the active worksheet\n",
        "wb = openpyxl.Workbook()\n",
        "ws = wb.active\n",
        "\n",
        "# Fill the Excel sheet with Green channel values and apply coloring\n",
        "for y in range(height):\n",
        "    for x in range(width):\n",
        "        r, g, b = pixels[y * width + x]\n",
        "        cell = ws.cell(row=y + 1, column=x + 1)\n",
        "        cell.value = f'{g}'\n",
        "        fill = PatternFill(start_color=f'00{g:02X}00', end_color=f'00{g:02X}00', fill_type=\"solid\")\n",
        "        cell.fill = fill\n",
        "\n",
        "# Save the workbook\n",
        "excel_path = '/content/data/Cat_greenchannel.xlsx'\n",
        "wb.save(excel_path)\n",
        "\n",
        "print(f'Pixel data has been saved to {excel_path}')"
      ]
    },
    {
      "cell_type": "markdown",
      "metadata": {
        "id": "vQh3KQ4xNKNm"
      },
      "source": [
        "### Green Channel Only"
      ]
    },
    {
      "cell_type": "code",
      "execution_count": 6,
      "metadata": {
        "id": "w8wdg5AYNKNm",
        "outputId": "3b71ebaf-9ec2-43ba-eca5-df0de2a63724",
        "colab": {
          "base_uri": "https://localhost:8080/"
        }
      },
      "outputs": [
        {
          "output_type": "stream",
          "name": "stdout",
          "text": [
            "Pixel data has been saved to /content/data/bluechannel.xlsx\n"
          ]
        }
      ],
      "source": [
        "from PIL import Image\n",
        "import openpyxl\n",
        "from openpyxl.styles import PatternFill\n",
        "\n",
        "# Load the image\n",
        "image_path = '/content/data/Cat.jpg'\n",
        "image = Image.open(image_path)\n",
        "image = image.convert('RGB')\n",
        "\n",
        "# Resize the image\n",
        "new_width, new_height = 64, 128\n",
        "image = image.resize((new_width, new_height))\n",
        "\n",
        "# Get pixel data\n",
        "pixels = list(image.getdata())\n",
        "width, height = image.size\n",
        "\n",
        "# Create a new Excel workbook and select the active worksheet\n",
        "wb = openpyxl.Workbook()\n",
        "ws = wb.active\n",
        "\n",
        "# Fill the Excel sheet with Blue channel values and apply coloring\n",
        "for y in range(height):\n",
        "    for x in range(width):\n",
        "        r, g, b = pixels[y * width + x]\n",
        "        cell = ws.cell(row=y + 1, column=x + 1)\n",
        "        cell.value = f'{b}'\n",
        "        fill = PatternFill(start_color=f'0000{b:02X}', end_color=f'0000{b:02X}', fill_type=\"solid\")\n",
        "        cell.fill = fill\n",
        "\n",
        "# Save the workbook\n",
        "excel_path = '/content/data/bluechannel.xlsx'\n",
        "wb.save(excel_path)\n",
        "\n",
        "print(f'Pixel data has been saved to {excel_path}')"
      ]
    },
    {
      "cell_type": "code",
      "source": [],
      "metadata": {
        "id": "BVdW2g73OFsd"
      },
      "execution_count": 6,
      "outputs": []
    }
  ],
  "metadata": {
    "kernelspec": {
      "display_name": "Python 3",
      "language": "python",
      "name": "python3"
    },
    "language_info": {
      "codemirror_mode": {
        "name": "ipython",
        "version": 3
      },
      "file_extension": ".py",
      "mimetype": "text/x-python",
      "name": "python",
      "nbconvert_exporter": "python",
      "pygments_lexer": "ipython3",
      "version": "3.11.9"
    },
    "colab": {
      "provenance": []
    }
  },
  "nbformat": 4,
  "nbformat_minor": 0
}